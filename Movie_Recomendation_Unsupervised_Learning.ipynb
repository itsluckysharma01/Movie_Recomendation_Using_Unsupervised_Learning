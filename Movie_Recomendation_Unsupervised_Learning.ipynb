{
 "cells": [
  {
   "cell_type": "markdown",
   "id": "116d1316",
   "metadata": {},
   "source": [
    "                                    #  Movie_Recomendation_Unsupervised_Learning                                   "
   ]
  },
  {
   "cell_type": "markdown",
   "id": "9312dffd",
   "metadata": {},
   "source": [
    "Techniques:\n",
    "**K-Means:** For simple, efficient clustering.\n",
    "\n",
    "**K-Means:** For simple, efficient clustering.\n",
    "\n",
    "**DBSCAN:** To find arbitrarily shaped clusters and identify outliers.\n",
    "\n",
    "**Hierarchical Clustering:** To visualize the natural hierarchy of segments.\n",
    "\n",
    "**Data Needed:** Customer transaction history, purchase frequency, average basket size, website activity (pages viewed, time spent), and demographics (if available).\n",
    "\n",
    "**Expected Output:** Defined customer groups (e.g., \"High-Value Loyalists,\" \"Occasional Bargain Hunters,\" \"New Engaged Users\"). This output can directly inform marketing and product strategy."
   ]
  },
  {
   "cell_type": "markdown",
   "id": "a8e43ff0",
   "metadata": {},
   "source": [
    "# Import Liberaries"
   ]
  },
  {
   "cell_type": "code",
   "execution_count": null,
   "id": "46a6d308",
   "metadata": {},
   "outputs": [],
   "source": [
    "import pandas as pd\n",
    "import numpy as np\n",
    "import matplotlib.pyplot as plt\n",
    "import seaborn as sns"
   ]
  },
  {
   "cell_type": "code",
   "execution_count": null,
   "id": "8e5f80f6",
   "metadata": {},
   "outputs": [],
   "source": [
    "df_netflix = pd.read_csv('https://raw.githubusercontent.com/itsluckysharma01/Datasets/refs/heads/main/Netflix_titles.csv')\n",
    "df_amazon = pd.read_csv('https://raw.githubusercontent.com/itsluckysharma01/Datasets/refs/heads/main/Amazone_titles.csv')\n",
    "df_hbo = pd.read_csv('https://raw.githubusercontent.com/itsluckysharma01/Datasets/refs/heads/main/HBO_titles.csv')"
   ]
  },
  {
   "cell_type": "code",
   "execution_count": null,
   "id": "40e5040d",
   "metadata": {},
   "outputs": [],
   "source": []
  }
 ],
 "metadata": {
  "kernelspec": {
   "display_name": "Python 3",
   "language": "python",
   "name": "python3"
  },
  "language_info": {
   "codemirror_mode": {
    "name": "ipython",
    "version": 3
   },
   "file_extension": ".py",
   "mimetype": "text/x-python",
   "name": "python",
   "nbconvert_exporter": "python",
   "pygments_lexer": "ipython3",
   "version": "3.11.3"
  }
 },
 "nbformat": 4,
 "nbformat_minor": 5
}
